{
 "cells": [
  {
   "cell_type": "markdown",
   "id": "f5315dfb",
   "metadata": {},
   "source": [
    "Name: Osama Sidahmed\n",
    "\n",
    "Date: 18 Oct 2021"
   ]
  },
  {
   "cell_type": "markdown",
   "id": "0d1cecc3",
   "metadata": {},
   "source": [
    "This notebook includes my work on the data preparation and data clustering of the UCI Online_Retail_II dataset.\n",
    "The dataset was downloaded from the new [UCI Machine Learning repository](https://archive-beta.ics.uci.edu/ml/datasets/online+retail+ii)\n",
    "\n",
    "As per the website, the following are the characteristics of the dataset:\n",
    "\n",
    "- The data is a real online retail transaction data set of two years composed of Multivariate, Sequential, Time-Series and Text\n",
    "- Subject Area: Business\n",
    "- Associated Tasks: Classification, Regression, Clustering\n",
    "- Number of Instances: 1067371\n",
    "\n",
    "Tabular data properties:\n",
    "- Does this dataset contain missing values?\\\n",
    "True\n",
    "- What symbol is used to indicate missing data? \\\n",
    "1\n",
    "- Number of Attributes\n",
    "8"
   ]
  },
  {
   "cell_type": "markdown",
   "id": "fb2d9bcb",
   "metadata": {},
   "source": [
    "### Objective:\n",
    "The main objective of this project is to apply various clustering techniques to find customers with natural similarities."
   ]
  },
  {
   "cell_type": "code",
   "execution_count": null,
   "id": "305e3251",
   "metadata": {},
   "outputs": [],
   "source": []
  },
  {
   "cell_type": "markdown",
   "id": "6ef963ec",
   "metadata": {},
   "source": [
    "### Business Understanding"
   ]
  },
  {
   "cell_type": "code",
   "execution_count": null,
   "id": "1a24dff1",
   "metadata": {},
   "outputs": [],
   "source": []
  },
  {
   "cell_type": "markdown",
   "id": "048baf08",
   "metadata": {
    "ExecuteTime": {
     "end_time": "2021-10-18T18:04:33.273007Z",
     "start_time": "2021-10-18T18:04:33.258268Z"
    }
   },
   "source": [
    "### Data Understanding"
   ]
  },
  {
   "cell_type": "code",
   "execution_count": null,
   "id": "f74a3262",
   "metadata": {},
   "outputs": [],
   "source": []
  },
  {
   "cell_type": "markdown",
   "id": "9b423f16",
   "metadata": {
    "ExecuteTime": {
     "end_time": "2021-10-18T18:04:11.393821Z",
     "start_time": "2021-10-18T18:04:11.384735Z"
    }
   },
   "source": [
    "#### Exploratory Data Analysis"
   ]
  },
  {
   "cell_type": "code",
   "execution_count": null,
   "id": "36b84687",
   "metadata": {},
   "outputs": [],
   "source": []
  },
  {
   "cell_type": "markdown",
   "id": "2f8d05a5",
   "metadata": {},
   "source": [
    "### Data preparation"
   ]
  },
  {
   "cell_type": "code",
   "execution_count": null,
   "id": "28035891",
   "metadata": {},
   "outputs": [],
   "source": []
  },
  {
   "cell_type": "markdown",
   "id": "186b88a7",
   "metadata": {},
   "source": [
    "### Modelling"
   ]
  },
  {
   "cell_type": "code",
   "execution_count": null,
   "id": "d8ef5e52",
   "metadata": {},
   "outputs": [],
   "source": []
  },
  {
   "cell_type": "markdown",
   "id": "e3c725a3",
   "metadata": {},
   "source": [
    "### Evaluation"
   ]
  },
  {
   "cell_type": "code",
   "execution_count": null,
   "id": "30408057",
   "metadata": {},
   "outputs": [],
   "source": []
  },
  {
   "cell_type": "code",
   "execution_count": null,
   "id": "751e3d93",
   "metadata": {},
   "outputs": [],
   "source": []
  },
  {
   "cell_type": "code",
   "execution_count": null,
   "id": "ab760e4e",
   "metadata": {},
   "outputs": [],
   "source": []
  },
  {
   "cell_type": "code",
   "execution_count": null,
   "id": "492b46af",
   "metadata": {},
   "outputs": [],
   "source": []
  },
  {
   "cell_type": "code",
   "execution_count": null,
   "id": "1d9728a5",
   "metadata": {},
   "outputs": [],
   "source": []
  },
  {
   "cell_type": "code",
   "execution_count": null,
   "id": "3a01ad77",
   "metadata": {},
   "outputs": [],
   "source": []
  },
  {
   "cell_type": "code",
   "execution_count": null,
   "id": "69360e9b",
   "metadata": {},
   "outputs": [],
   "source": []
  },
  {
   "cell_type": "code",
   "execution_count": null,
   "id": "c02be5df",
   "metadata": {},
   "outputs": [],
   "source": []
  },
  {
   "cell_type": "code",
   "execution_count": null,
   "id": "f8f0a1c6",
   "metadata": {},
   "outputs": [],
   "source": []
  }
 ],
 "metadata": {
  "hide_input": false,
  "kernelspec": {
   "display_name": "deeplearning",
   "language": "python",
   "name": "deeplearning"
  },
  "language_info": {
   "codemirror_mode": {
    "name": "ipython",
    "version": 3
   },
   "file_extension": ".py",
   "mimetype": "text/x-python",
   "name": "python",
   "nbconvert_exporter": "python",
   "pygments_lexer": "ipython3",
   "version": "3.8.8"
  },
  "toc": {
   "base_numbering": 1,
   "nav_menu": {},
   "number_sections": true,
   "sideBar": true,
   "skip_h1_title": false,
   "title_cell": "Table of Contents",
   "title_sidebar": "Contents",
   "toc_cell": false,
   "toc_position": {},
   "toc_section_display": true,
   "toc_window_display": false
  }
 },
 "nbformat": 4,
 "nbformat_minor": 5
}
